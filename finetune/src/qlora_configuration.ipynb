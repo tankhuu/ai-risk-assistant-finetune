{
 "cells": [
  {
   "cell_type": "code",
   "execution_count": null,
   "id": "initial_id",
   "metadata": {
    "collapsed": true
   },
   "outputs": [],
   "source": [
    "# Configure the model for LoRA fine-tuning\n",
    "model = FastLanguageModel.get_peft_model(\n",
    "    model,\n",
    "    r=16,  # Suggested r values: 8, 16, 32, 64, 128\n",
    "    lora_alpha=32,\n",
    "    target_modules=[\"q_proj\", \"k_proj\", \"v_proj\", \"o_proj\",\n",
    "                    \"gate_proj\", \"up_proj\", \"down_proj\"],\n",
    "    lora_dropout=0.05,\n",
    "    bias=\"none\",\n",
    "    use_gradient_checkpointing=\"unsloth\", # Saves memory\n",
    "    random_state=3407,\n",
    "    use_rslora=False,  # Rank-Stabilized LoRA\n",
    "    loftq_config=None, # LoftQ\n",
    ")"
   ]
  },
  {
   "metadata": {},
   "cell_type": "code",
   "outputs": [],
   "execution_count": null,
   "source": [
    "from trl import SFTTrainer\n",
    "from transformers import TrainingArguments\n",
    "\n",
    "# Define the training arguments\n",
    "training_args = TrainingArguments(\n",
    "    per_device_train_batch_size=2,\n",
    "    gradient_accumulation_steps=4,  # Effective batch size = 2 * 4 = 8\n",
    "    warmup_steps=10,\n",
    "    # Use max_steps for quick testing, or num_train_epochs for a full run\n",
    "    max_steps=100,  # A short run for demonstration\n",
    "    # num_train_epochs=1, # Uncomment for a full training run\n",
    "    learning_rate=2e-4,\n",
    "    fp16=not torch.cuda.is_bf16_supported(),\n",
    "    bf16=torch.cuda.is_bf16_supported(),\n",
    "    logging_steps=1,\n",
    "    optim=\"paged_adamw_8bit\", # Memory-efficient optimizer\n",
    "    weight_decay=0.01,\n",
    "    lr_scheduler_type=\"linear\",\n",
    "    seed=3407,\n",
    "    output_dir=\"outputs_llama3\",\n",
    "    report_to=\"none\", # Set to \"wandb\" or \"tensorboard\" for logging\n",
    ")\n",
    "\n",
    "# Initialize the SFTTrainer\n",
    "trainer = SFTTrainer(\n",
    "    model=model,\n",
    "    tokenizer=tokenizer,\n",
    "    train_dataset=final_dataset['train'],\n",
    "    eval_dataset=final_dataset['test'],\n",
    "    dataset_text_field=\"text\",  # The column in our dataset containing the formatted prompts\n",
    "    max_seq_length=max_seq_length,\n",
    "    dataset_num_proc=2,\n",
    "    packing=False,  # Can make training 5x faster for short sequences\n",
    "    args=training_args,\n",
    ")\n",
    "\n",
    "# Start the fine-tuning process\n",
    "print(\"--- Starting Llama 3.2 Fine-Tuning ---\")\n",
    "trainer_stats = trainer.train()\n",
    "print(\"--- Fine-Tuning Complete ---\")"
   ],
   "id": "53dea72ea09d4e59"
  },
  {
   "metadata": {},
   "cell_type": "code",
   "outputs": [],
   "execution_count": null,
   "source": [
    "# --- Saving the trained LoRA adapter ---\n",
    "# The trainer automatically saves the adapter to the output_dir.\n",
    "# You can also save it manually:\n",
    "model.save_pretrained(\"llama3_risk_analyst_lora\")\n",
    "tokenizer.save_pretrained(\"llama3_risk_analyst_lora\")\n",
    "\n",
    "# To push to Hugging Face Hub (if authenticated)\n",
    "# model.push_to_hub(\"your_hf_username/llama3_risk_analyst_lora\", token=HF_TOKEN)\n",
    "# tokenizer.push_to_hub(\"your_hf_username/llama3_risk_analyst_lora\", token=HF_TOKEN)\n",
    "\n",
    "# --- Merging the adapter for deployment ---\n",
    "# To create a standalone model, you can merge the LoRA weights.\n",
    "# This is useful for inference endpoints that don't support PEFT adapters directly.\n",
    "# First, load the base model in 16-bit precision\n",
    "from unsloth import FastLanguageModel\n",
    "model, tokenizer = FastLanguageModel.from_pretrained(\n",
    "    model_name=\"unsloth/Llama-3.2-3B-Instruct-bnb-4bit\",\n",
    "    max_seq_length=max_seq_length,\n",
    "    dtype=dtype,\n",
    "    load_in_4bit=load_in_4bit,\n",
    ")\n",
    "\n",
    "# Merge the LoRA adapter\n",
    "from peft import PeftModel\n",
    "model = PeftModel.from_pretrained(model, \"llama3_risk_analyst_lora\")\n",
    "model = model.merge_and_unload()\n",
    "\n",
    "# Now `model` is a standalone, fine-tuned model.\n",
    "# You can save this merged model for deployment.\n",
    "# model.save_pretrained(\"llama3_risk_analyst_merged\")\n",
    "# tokenizer.save_pretrained(\"llama3_risk_analyst_merged\")"
   ],
   "id": "7665925fbd2823c9"
  }
 ],
 "metadata": {
  "kernelspec": {
   "display_name": "Python 3",
   "language": "python",
   "name": "python3"
  },
  "language_info": {
   "codemirror_mode": {
    "name": "ipython",
    "version": 2
   },
   "file_extension": ".py",
   "mimetype": "text/x-python",
   "name": "python",
   "nbconvert_exporter": "python",
   "pygments_lexer": "ipython2",
   "version": "2.7.6"
  }
 },
 "nbformat": 4,
 "nbformat_minor": 5
}
