{
 "cells": [
  {
   "metadata": {},
   "cell_type": "code",
   "outputs": [],
   "execution_count": null,
   "source": "!pip install torch unsloth",
   "id": "76208fc8e9c97f2a"
  },
  {
   "cell_type": "code",
   "execution_count": null,
   "id": "initial_id",
   "metadata": {
    "collapsed": true
   },
   "outputs": [],
   "source": [
    "from unsloth import FastLanguageModel\n",
    "import torch\n",
    "\n",
    "# Define model parameters\n",
    "max_seq_length = 2048  # Choose any! We auto support RoPE Scaling internally!\n",
    "dtype = None  # Auto-detects: Float16 for T4/V100, Bfloat16 for Ampere+\n",
    "load_in_4bit = True  # Use 4bit quantization to reduce memory usage\n",
    "\n",
    "# Load the Llama 3.2 3B Instruct model from unsloth's repository\n",
    "# Unsloth provides pre-quantized models for faster downloads and no OOM errors.\n",
    "model, tokenizer = FastLanguageModel.from_pretrained(\n",
    "    model_name=\"unsloth/Llama-3.2-3B-Instruct-bnb-4bit\",\n",
    "    max_seq_length=max_seq_length,\n",
    "    dtype=dtype,\n",
    "    load_in_4bit=load_in_4bit,\n",
    ")"
   ]
  },
  {
   "metadata": {},
   "cell_type": "code",
   "outputs": [],
   "execution_count": null,
   "source": [
    "# --- Saving the trained LoRA adapter ---\n",
    "# The trainer automatically saves the adapter to the output_dir.\n",
    "# You can also save it manually:\n",
    "model.save_pretrained(\"gemini2_risk_analyst_lora\")\n",
    "tokenizer.save_pretrained(\"gemini2_risk_analyst_lora\")\n",
    "\n",
    "# To push to Hugging Face Hub (if authenticated)\n",
    "# model.push_to_hub(\"your_hf_username/llama3_risk_analyst_lora\", token=HF_TOKEN)\n",
    "# tokenizer.push_to_hub(\"your_hf_username/llama3_risk_analyst_lora\", token=HF_TOKEN)\n",
    "\n",
    "# --- Merging the adapter for deployment ---\n",
    "# To create a standalone model, you can merge the LoRA weights.\n",
    "# This is useful for inference endpoints that don't support PEFT adapters directly.\n",
    "# First, load the base model in 16-bit precision\n",
    "from unsloth import FastLanguageModel\n",
    "model, tokenizer = FastLanguageModel.from_pretrained(\n",
    "    model_name=\"unsloth/gemini-2.5-pros\",\n",
    "    max_seq_length=max_seq_length,\n",
    "    dtype=dtype,\n",
    "    load_in_4bit=load_in_4bit,\n",
    ")\n",
    "\n",
    "# Merge the LoRA adapter\n",
    "from peft import PeftModel\n",
    "model = PeftModel.from_pretrained(model, \"gemini2_risk_analyst_lora\")\n",
    "model = model.merge_and_unload()\n",
    "\n",
    "# Now `model` is a standalone, fine-tuned model.\n",
    "# You can save this merged model for deployment.\n",
    "# model.save_pretrained(\"llama3_risk_analyst_merged\")\n",
    "# tokenizer.save_pretrained(\"llama3_risk_analyst_merged\")"
   ],
   "id": "c1e358e81858f445"
  }
 ],
 "metadata": {
  "kernelspec": {
   "display_name": "Python 3",
   "language": "python",
   "name": "python3"
  },
  "language_info": {
   "codemirror_mode": {
    "name": "ipython",
    "version": 2
   },
   "file_extension": ".py",
   "mimetype": "text/x-python",
   "name": "python",
   "nbconvert_exporter": "python",
   "pygments_lexer": "ipython2",
   "version": "2.7.6"
  }
 },
 "nbformat": 4,
 "nbformat_minor": 5
}
